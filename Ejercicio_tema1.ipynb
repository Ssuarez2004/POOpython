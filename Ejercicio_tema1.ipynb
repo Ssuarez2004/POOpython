{
  "nbformat": 4,
  "nbformat_minor": 0,
  "metadata": {
    "colab": {
      "provenance": [],
      "authorship_tag": "ABX9TyMqbxFRIlIngPhdS6M7kxc7",
      "include_colab_link": true
    },
    "kernelspec": {
      "name": "python3",
      "display_name": "Python 3"
    },
    "language_info": {
      "name": "python"
    }
  },
  "cells": [
    {
      "cell_type": "markdown",
      "metadata": {
        "id": "view-in-github",
        "colab_type": "text"
      },
      "source": [
        "<a href=\"https://colab.research.google.com/github/Ssuarez2004/POOpython/blob/main/Ejercicio_tema1.ipynb\" target=\"_parent\"><img src=\"https://colab.research.google.com/assets/colab-badge.svg\" alt=\"Open In Colab\"/></a>"
      ]
    },
    {
      "cell_type": "markdown",
      "source": [
        "Ejercicio 1: Extracción de Información de una Receta\n",
        "Al extraer texto de un sitio web de recetas, obtuviste una cadena de texto corrupta y al revés. Parece contener el nombre de una receta y la cantidad de calorías. Formatea la cadena para conseguir una estructura como la siguiente:\n",
        "\n",
        "La receta de [Nombre de la receta] contiene [Número] calorías.\n",
        "\n",
        "Ayuda:\n",
        "Para voltear una cadena rápidamente utilizando slicing: cadena[::-1]"
      ],
      "metadata": {
        "id": "FaXb14N1HHFi"
      }
    },
    {
      "cell_type": "code",
      "execution_count": null,
      "metadata": {
        "id": "4V2XxmX5HGPk"
      },
      "outputs": [],
      "source": [
        "receta = \"sairolac 003 eneitnoc zorra ed atecer al\"\n",
        "receta_corregida = receta[::-1]\n",
        "print(receta_corregida)"
      ]
    },
    {
      "cell_type": "markdown",
      "source": [
        "Ejercicio 2: Cálculo de Interés Compuesto\n",
        "Crea un programa que calcule el interés compuesto.\n",
        "Guarda en una variable capital_inicial el valor 1000.\n",
        "Lee por pantalla la tasa de interés anual, que deberá estar entre 1% y 10%.\n",
        "Eleva la tasa de interés a sí misma por el número de años (por ejemplo, 5 años).\n",
        "Multiplica el capital_inicial por el resultado anterior en sí mismo.\n",
        "Muestra el capital final."
      ],
      "metadata": {
        "id": "PMdoKOMpHNae"
      }
    },
    {
      "cell_type": "code",
      "source": [
        "capital_inicial = 1000\n",
        "tasa_de_interes_anual= float(input(\"La tasa de interes anual es:\")) #Mi ejemplo -> 0.03\n",
        "tasa_de_interes_elevada = (1+tasa_de_interes_anual) ** 5\n",
        "capital_final = capital_inicial * tasa_de_interes_elevada\n",
        "print(\"El capital final después de 5 años es:\", capital_final)"
      ],
      "metadata": {
        "id": "yORg01dHHQQ5"
      },
      "execution_count": null,
      "outputs": []
    },
    {
      "cell_type": "markdown",
      "source": [
        "Ejercicio 3: Encontrar Palabras Comunes\n",
        "Dadas dos listas de palabras, genera una tercera lista con todas las palabras que se repitan en ambas listas, sin repetición en la nueva lista."
      ],
      "metadata": {
        "id": "46ksxLN0HQz7"
      }
    },
    {
      "cell_type": "code",
      "source": [
        "lista_1 = [\"rojo\", \"amarillo\", \"verde\", \"azul\", \"naranja\"]\n",
        "lista_2 = [\"amarillo\", \"lila\", \"azul\", \"blanco\", \"verde\"]\n",
        "lista_3_de_palabras_en_comun = list(set(lista_1) & set(lista_2))\n",
        "print(lista_3_de_palabras_en_comun)"
      ],
      "metadata": {
        "id": "t4RfRtLVHVeh"
      },
      "execution_count": null,
      "outputs": []
    },
    {
      "cell_type": "markdown",
      "source": [
        "Ejercicio 4: Priorización de Tareas en un Videojuego\n",
        "Durante la planificación de un videojuego, se han acordado una serie de misiones con niveles de dificultad. Crea una estructura de cola con todas las misiones ordenadas por dificultad pero sin mostrar los números de dificultad."
      ],
      "metadata": {
        "id": "Xae0eKS3HVzE"
      }
    },
    {
      "cell_type": "code",
      "source": [
        "from collections import deque\n",
        "\n",
        "misiones = [\n",
        "    \"1. Nivel principiante\",\n",
        "    \"2. Nivel promedio\",\n",
        "    \"3. Nivel experto\"\n",
        "]\n",
        "\n",
        "misiones_sin_sus_numeros=[]\n",
        "for mision in misiones:\n",
        "    mision_sin_numero = mision.split(\".\",1)[1].strip()\n",
        "    misiones_sin_sus_numeros.append(mision_sin_numero)\n",
        "\n",
        "print(\"Las misiones según su nivel de dificultad:\")\n",
        "for mision in misiones_sin_sus_numeros:\n",
        "    print(mision)"
      ],
      "metadata": {
        "id": "sFEsmDgVHY1e"
      },
      "execution_count": null,
      "outputs": []
    },
    {
      "cell_type": "markdown",
      "source": [
        "Ejercicio 5: Descomposición de Dirección IP\n",
        "Crea un script que tome una dirección IP como argumento y la descomponga en sus cuatro octetos, mostrándolos línea a línea."
      ],
      "metadata": {
        "id": "cMh9UsLeHZEy"
      }
    },
    {
      "cell_type": "code",
      "source": [
        "def validar_cuarteto(octeto):\n",
        "    try:\n",
        "        octeto_entero = int(octeto)\n",
        "        return 0 <= octeto_entero <= 255\n",
        "    except ValueError:\n",
        "        return False\n",
        "\n",
        "def descomponer_direccion_ip(ip):\n",
        "    octetos = ip.split('.')\n",
        "    if len(octetos) != 4:\n",
        "        return \"La dirección IP no tiene 4 octetos\"\n",
        "\n",
        "    for octeto in octetos:\n",
        "        if not validar_cuarteto(octeto):\n",
        "            return f\"El octeto {octeto} no es válido\"\n",
        "\n",
        "    return octetos\n",
        "\n",
        "direccion_ip = input(\"Ingresar una dirección IP: \")\n",
        "\n",
        "resultado = descomponer_direccion_ip(direccion_ip)\n",
        "\n",
        "if isinstance(resultado, list):\n",
        "    print(\"Los octetos de la dirección IP son:\")\n",
        "    for octeto in resultado:\n",
        "        print(octeto)\n",
        "else:\n",
        "    print(resultado)"
      ],
      "metadata": {
        "id": "CoVsetBQHcyb"
      },
      "execution_count": null,
      "outputs": []
    },
    {
      "cell_type": "markdown",
      "source": [
        "Ejercicio 6: Separar Personajes de Videojuegos\n",
        "Crea una función que tome una lista de personajes de videojuegos y devuelva dos listas ordenadas: la primera con personajes humanos y la segunda con personajes no humanos."
      ],
      "metadata": {
        "id": "b_m1F8X0HgbG"
      }
    },
    {
      "cell_type": "code",
      "source": [
        "def separar_los_personajes(personajes_del_videojuego):\n",
        "\n",
        "    personajes_humanos=[]\n",
        "    personajes_no_humanos=[]\n",
        "\n",
        "    for personaje in personajes_del_videojuego:\n",
        "        nombre= personaje.lower()\n",
        "        if 'personajes_humanos' in nombre:\n",
        "            personajes_humanos.append(personaje)\n",
        "        else:\n",
        "            personajes_no_humanos.append(personaje)\n",
        "\n",
        "    return sorted(personajes_humanos), sorted(personajes_no_humanos)\n",
        "personajes=[\"Mario\", \"Luigi\", \"Sonic\"]\n",
        "personajes_humanos, personajes_no_humanos= separar_los_personajes(personajes)\n",
        "\n",
        "print(\"Los personajes humanos son:\")\n",
        "for personaje in personajes_humanos:\n",
        "    print(personaje)\n",
        "\n",
        "print(\"Los personajes no humanos son:\")\n",
        "for personaje in personajes_no_humanos:\n",
        "    print(personaje)"
      ],
      "metadata": {
        "id": "8VriNsd2HhM3"
      },
      "execution_count": null,
      "outputs": []
    },
    {
      "cell_type": "markdown",
      "source": [
        "Ejercicio 7: Añadir Ítems a un Inventario\n",
        "Crea una función llamada agregar_item(inventario, item) que reciba una lista de ítems de un inventario y un nuevo ítem a añadir. La función debe añadir el nuevo ítem siempre y cuando no se repita. Si el ítem ya está en el inventario, debe lanzar un error de tipo ValueError."
      ],
      "metadata": {
        "id": "ufQjF_c0Hhku"
      }
    },
    {
      "cell_type": "code",
      "source": [
        "def agregar_item(inventario, item):\n",
        "    if item in inventario:\n",
        "        raise ValueError(f\"{item} ya esta en el inventario\")\n",
        "    inventario.append(item)\n",
        "\n",
        "inventario = [\"Falda\", \"Blusa\", \"Vestido\"]\n",
        "\n",
        "try:\n",
        "    nuevo_item_en_el_inventario = input(\"El nuevo item del inventario es:\")\n",
        "    agregar_item(inventario, nuevo_item_en_el_inventario)\n",
        "    print(f\"{nuevo_item_en_el_inventario} ha sido añadido al inventario\")\n",
        "except ValueError as e:\n",
        "    print(f\"Error: {e}\")"
      ],
      "metadata": {
        "id": "vcOkY2B8Hmu3"
      },
      "execution_count": null,
      "outputs": []
    }
  ]
}