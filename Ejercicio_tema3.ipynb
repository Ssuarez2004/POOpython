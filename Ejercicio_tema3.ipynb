{
  "nbformat": 4,
  "nbformat_minor": 0,
  "metadata": {
    "colab": {
      "provenance": [],
      "authorship_tag": "ABX9TyPjipYYFwP3ZvEId0czIofG",
      "include_colab_link": true
    },
    "kernelspec": {
      "name": "python3",
      "display_name": "Python 3"
    },
    "language_info": {
      "name": "python"
    }
  },
  "cells": [
    {
      "cell_type": "markdown",
      "metadata": {
        "id": "view-in-github",
        "colab_type": "text"
      },
      "source": [
        "<a href=\"https://colab.research.google.com/github/Ssuarez2004/POOpython/blob/main/Ejercicio_tema3.ipynb\" target=\"_parent\"><img src=\"https://colab.research.google.com/assets/colab-badge.svg\" alt=\"Open In Colab\"/></a>"
      ]
    },
    {
      "cell_type": "markdown",
      "source": [
        "Ejercicio 1: El Puzzle de la Pirámide de Piedras Preciosas\n",
        "Enunciado\n",
        "En el corazón de una antigua pirámide egipcia, hay una cámara secreta donde se encuentran 74 piedras preciosas de diferentes tamaños, apiladas en una columna de piedra. Tienes como tarea trasladar todas las piedras a otra columna, siguiendo estas reglas:\n",
        "Solo puedes mover una piedra a la vez.\n",
        "Una piedra más grande no puede ser colocada sobre una más pequeña.\n",
        "Se dice que al completar esta tarea, descubrirás un antiguo tesoro escondido. Resuelve este puzzle, que es una variante del clásico problema de la Torre de Hanói."
      ],
      "metadata": {
        "id": "sX95ObKcJXvu"
      }
    },
    {
      "cell_type": "code",
      "execution_count": null,
      "metadata": {
        "id": "dC1PxfRQJXDY"
      },
      "outputs": [],
      "source": [
        "def move_stones(n, origen, destino, auxiliar):\n",
        "    if n > 0:\n",
        "        move_stones(n - 1, origen, auxiliar, destino)\n",
        "        destino.append(origen.pop())\n",
        "        print(f\"Move stone {n} from {origen} to {destino}\")\n",
        "        move_stones(n - 1, auxiliar, destino, origen)\n",
        "\n",
        "stones = [i for i in range(74, 0, -1)]\n",
        "source_column = stones\n",
        "target_column = []\n",
        "auxiliary_column = []\n",
        "\n",
        "move_stones(len(stones), source_column, target_column, auxiliary_column)"
      ]
    },
    {
      "cell_type": "markdown",
      "source": [
        "Ejercicio 2: El Secreto de la Cifra Mágica\n",
        "En las páginas de un libro antiguo de matemáticas, encuentras una matriz cuadrada de 3x3 llena de números extraños. Se rumorea que resolver el determinante de esta matriz revelará la ubicación de una cifra mágica.\n",
        "Escribe el código para calcular este determinante utilizando:\n",
        "El método recursivo.\n",
        "El método iterativo."
      ],
      "metadata": {
        "id": "EmvNvXBTJe2n"
      }
    },
    {
      "cell_type": "code",
      "source": [
        "def determinant_recursive(matrix):\n",
        "    if len(matrix) == 1:\n",
        "        return matrix[0][0]\n",
        "    elif len(matrix) == 2:\n",
        "        return matrix[0][0] * matrix[1][1] - matrix[0][1] * matrix[1][0]\n",
        "    else:\n",
        "        det = 0\n",
        "        for i in range(len(matrix)):\n",
        "            sign = (-1) ** i\n",
        "            sub_matrix = []\n",
        "            for j in range(1, len(matrix)):\n",
        "                row = []\n",
        "                for k in range(len(matrix)):\n",
        "                    if k != i:\n",
        "                        row.append(matrix[j][k])\n",
        "                sub_matrix.append(row)\n",
        "            det += sign * matrix[0][i] * determinant_recursive(sub_matrix)\n",
        "        return det\n",
        "\n",
        "matrix = [[1, 2, 3], [4, 5, 6], [7, 8, 9]]\n",
        "determinant = determinant_recursive(matrix)\n",
        "print(f\"El determinante de la matriz es: {determinant}\")"
      ],
      "metadata": {
        "id": "-ledMdVpJfSL"
      },
      "execution_count": null,
      "outputs": []
    },
    {
      "cell_type": "markdown",
      "source": [
        "Ejercicio 3: El Gran Rally Espacial\n",
        "Se te ha dado una lista de naves espaciales de una famosa carrera intergaláctica. Cada nave tiene un nombre, longitud, cantidad de tripulantes y cantidad de pasajeros. Realiza las siguientes tareas:\n",
        "Ordena la lista de naves por nombre de forma ascendente y por longitud de forma descendente.\n",
        "Muestra toda la información de las naves \"Cometa Veloz\" y \"Titán del Cosmos\".\n",
        "Determina cuáles son las cinco naves con mayor cantidad de pasajeros.\n",
        "Indica cuál es la nave que requiere la mayor cantidad de tripulación.\n",
        "Muestra todas las naves cuyo nombre comience con \"GX\".\n",
        "Lista todas las naves que pueden llevar seis o más pasajeros.\n",
        "Muestra toda la información de la nave más pequeña y la más grande."
      ],
      "metadata": {
        "id": "feZ6gxFpJiGl"
      }
    },
    {
      "cell_type": "code",
      "source": [
        "import pandas as pd\n",
        "\n",
        "data = {\n",
        "    \"Nombre\": [\"Cometa Veloz\", \"Titán del Cosmos\", \"Nave 1\", \"Nave 2\", \"Nave 3\", \"Nave 4\", \"GX-1\", \"GX-2\"],\n",
        "    \"Longitud\": [10, 20, 15, 25, 30, 35, 40, 45],\n",
        "    \"Tripulantes\": [5, 10, 3, 4, 2, 6, 8, 7],\n",
        "    \"Pasajeros\": [20, 30, 10, 15, 5, 25, 12, 18]\n",
        "}\n",
        "\n",
        "df = pd.DataFrame(data)"
      ],
      "metadata": {
        "id": "kBc_w1mkJiV0"
      },
      "execution_count": null,
      "outputs": []
    },
    {
      "cell_type": "markdown",
      "source": [
        "Ejercicio 4: La Matemática de los Encantamientos\n",
        "Has encontrado un grimorio que contiene una estructura de datos de polinomios mágicos. Se te pide implementar las siguientes funciones:\n",
        "Restar dos polinomios.\n",
        "Dividir dos polinomios.\n",
        "Eliminar un término de un polinomio.\n",
        "Determinar si un término específico existe en un polinomio.\n",
        "Resuelve estos ejercicios para desbloquear los secretos del grimorio."
      ],
      "metadata": {
        "id": "-QvrCIQQJo4Z"
      }
    },
    {
      "cell_type": "code",
      "source": [
        "import numpy as np\n",
        "\n",
        "polinomio1 = np.array([1, 2, 3])\n",
        "polinomio2 = np.array([3, 2, 1])\n",
        "\n",
        "#Division\n",
        "division = np.polydiv(polinomio1, polinomio2)\n",
        "\n",
        "#Resta\n",
        "resta = polinomio1 - polinomio2\n",
        "\n",
        "#Determinar si un término específico existe en un polinomioDeterminar si un término específico existe en un polinomio\n",
        "termino_especifico = 2\n",
        "existe_termino = np.isin(polinomio1, termino_especifico)"
      ],
      "metadata": {
        "id": "JXcKuLbvJpr9"
      },
      "execution_count": null,
      "outputs": []
    }
  ]
}